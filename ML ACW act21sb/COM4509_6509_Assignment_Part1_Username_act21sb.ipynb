{
  "nbformat": 4,
  "nbformat_minor": 0,
  "metadata": {
    "kernelspec": {
      "display_name": "Python 3",
      "language": "python",
      "name": "python3"
    },
    "language_info": {
      "codemirror_mode": {
        "name": "ipython",
        "version": 3
      },
      "file_extension": ".py",
      "mimetype": "text/x-python",
      "name": "python",
      "nbconvert_exporter": "python",
      "pygments_lexer": "ipython3",
      "version": "3.8.8"
    },
    "colab": {
      "name": "COM4509_6509_Assignment_Part1_Username_act21sb.ipynb",
      "provenance": [],
      "collapsed_sections": []
    }
  },
  "cells": [
    {
      "cell_type": "markdown",
      "metadata": {
        "id": "G653UFRLjPjK"
      },
      "source": [
        "# Assignment Part 1 Brief \n",
        "\n",
        "## Deadline: Friday, December 3, 2021 at 15:00 hrs\n",
        "\n",
        "## Number of marks available for Part 1: 25\n",
        "\n",
        "## Scope: Sessions 1 to 5\n",
        "\n",
        "### Please READ the whole assignment first, before starting to work on it.\n",
        "\n",
        "### How and what to submit\n",
        "\n",
        "A. A **Jupyter Notebook** with the code in all the cells executed and outputs displayed.\n",
        "\n",
        "B. Name your Notebook **COM4509-6509_Assignment_Part1_Username_XXXXXX.ipynb** where XXXXXX is your username such as such as abc18de.  \n",
        "\n",
        "C. Upload a .zip file to Blackboard before the deadline that contains the Jupyter Notebook in B and any other files requested for the solution of Part 2 of the Assignment (Dr Lu will be in charge of releasing this part). \n",
        "\n",
        "D. **NO DATA UPLOAD**: Please do not upload the data files used in this Notebook. We have a copy already. \n",
        "\n",
        "\n",
        "### Assessment Criteria \n",
        "\n",
        "* Being able to use numpy and pandas to preprocess a dataset.\n",
        "\n",
        "* Being able to use numpy to build a machine learning pipeline for supervised learning. \n",
        "\n",
        "* Being able to follow the steps involved in an end-to-end project in machine learning.\n",
        "\n",
        "* Being able to use scikit-learn to design a machine learning model pipeline\n",
        "\n",
        "\n",
        "### Late submissions\n",
        "\n",
        "We follow Department's guidelines about late submissions, i.e., a deduction of 5% of the mark each working day the work is late after the deadline. NO late submission will be marked one week after the deadline because we will release a solution by then. Please read [this link](https://sites.google.com/sheffield.ac.uk/comughandbook/general-information/assessment/late-submission) if you are taking COM4509 or read [this link](https://sites.google.com/sheffield.ac.uk/compgtstudenthandbook/menu/assessment/late-submission) if you are taking COM6509. \n",
        "\n",
        "### Use of unfair means \n",
        "\n",
        "**\"Any form of unfair means is treated as a serious academic offence and action may be taken under the Discipline Regulations.\"** (from the students Handbook). Please carefully read [this link](https://sites.google.com/sheffield.ac.uk/comughandbook/general-information/assessment/unfair-means) on what constitutes Unfair Means if not sure, for COM4509. If you are taking COM6509, please read [this link](https://sites.google.com/sheffield.ac.uk/compgtstudenthandbook/menu/referencing-unfair-means) if you are not sure what is Unfair means. If you still have questions, please ask your Personal tutor or the Lecturers. "
      ]
    },
    {
      "cell_type": "markdown",
      "metadata": {
        "id": "cnq7Vv8IjPjS"
      },
      "source": [
        "# A dataset of air quality\n",
        "\n",
        "The dataset you will use in this assignment comes from a popular machine learning repository that hosts open source datasets for educational and research purposes, the [UCI Machine Learning Repository](https://archive.ics.uci.edu/ml/index.php). We are going to use regularised ridge regression and random forests for predicting air quality. The description of the dataset can be found [here](https://archive.ics.uci.edu/ml/datasets/Air+Quality)."
      ]
    },
    {
      "cell_type": "code",
      "metadata": {
        "colab": {
          "base_uri": "https://localhost:8080/"
        },
        "id": "FwHMPTVBjPjT",
        "outputId": "abde7d6e-5a90-49ce-c161-33b904594513"
      },
      "source": [
        "import urllib.request\n",
        "doq = \"https://archive.ics.uci.edu/ml/machine-learning-databases/00360/AirQualityUCI.zip\"\n",
        "pat_sav = \"./AirQualityUCI.zip\"\n",
        "urllib.request.urlretrieve(doq, pat_sav)\n",
        "#urllib.request.urlretrieve(\"https://archive.ics.uci.edu/ml/machine-learning-databases/00360/AirQualityUCI.zip\")"
      ],
      "execution_count": null,
      "outputs": [
        {
          "output_type": "execute_result",
          "data": {
            "text/plain": [
              "('./AirQualityUCI.zip', <http.client.HTTPMessage at 0x7fa720bf9210>)"
            ]
          },
          "metadata": {},
          "execution_count": 1
        }
      ]
    },
    {
      "cell_type": "code",
      "metadata": {
        "id": "GSRmspy1jPjW"
      },
      "source": [
        "import zipfile\n",
        "zip = zipfile.ZipFile('./AirQualityUCI.zip', 'r')\n",
        "for name in zip.namelist():\n",
        "    zip.extract(name, '.')"
      ],
      "execution_count": null,
      "outputs": []
    },
    {
      "cell_type": "code",
      "metadata": {
        "id": "Orgr6e4rjPjW"
      },
      "source": [
        "# The .csv version of the file has some typing issues, so we use the excel version\n",
        "import pandas as pd \n",
        "air_quality_full = pd.read_excel('./AirQualityUCI.xlsx', usecols=range(2,15))"
      ],
      "execution_count": null,
      "outputs": []
    },
    {
      "cell_type": "markdown",
      "metadata": {
        "id": "j6DoPgmojPjX"
      },
      "source": [
        "We can see some of the rows in the dataset "
      ]
    },
    {
      "cell_type": "code",
      "metadata": {
        "colab": {
          "base_uri": "https://localhost:8080/",
          "height": 206
        },
        "id": "XM7iz27ajPjX",
        "outputId": "5409f959-fced-4274-8f03-6ac53a1541cd"
      },
      "source": [
        "air_quality_full.sample(5)"
      ],
      "execution_count": null,
      "outputs": [
        {
          "output_type": "execute_result",
          "data": {
            "text/html": [
              "<div>\n",
              "<style scoped>\n",
              "    .dataframe tbody tr th:only-of-type {\n",
              "        vertical-align: middle;\n",
              "    }\n",
              "\n",
              "    .dataframe tbody tr th {\n",
              "        vertical-align: top;\n",
              "    }\n",
              "\n",
              "    .dataframe thead th {\n",
              "        text-align: right;\n",
              "    }\n",
              "</style>\n",
              "<table border=\"1\" class=\"dataframe\">\n",
              "  <thead>\n",
              "    <tr style=\"text-align: right;\">\n",
              "      <th></th>\n",
              "      <th>CO(GT)</th>\n",
              "      <th>PT08.S1(CO)</th>\n",
              "      <th>NMHC(GT)</th>\n",
              "      <th>C6H6(GT)</th>\n",
              "      <th>PT08.S2(NMHC)</th>\n",
              "      <th>NOx(GT)</th>\n",
              "      <th>PT08.S3(NOx)</th>\n",
              "      <th>NO2(GT)</th>\n",
              "      <th>PT08.S4(NO2)</th>\n",
              "      <th>PT08.S5(O3)</th>\n",
              "      <th>T</th>\n",
              "      <th>RH</th>\n",
              "      <th>AH</th>\n",
              "    </tr>\n",
              "  </thead>\n",
              "  <tbody>\n",
              "    <tr>\n",
              "      <th>1894</th>\n",
              "      <td>1.7</td>\n",
              "      <td>1039.25</td>\n",
              "      <td>-200</td>\n",
              "      <td>12.156068</td>\n",
              "      <td>1055.00</td>\n",
              "      <td>131.0</td>\n",
              "      <td>965.50</td>\n",
              "      <td>117.0</td>\n",
              "      <td>1589.5</td>\n",
              "      <td>844.50</td>\n",
              "      <td>27.975000</td>\n",
              "      <td>23.175000</td>\n",
              "      <td>0.861267</td>\n",
              "    </tr>\n",
              "    <tr>\n",
              "      <th>3462</th>\n",
              "      <td>1.9</td>\n",
              "      <td>1141.75</td>\n",
              "      <td>-200</td>\n",
              "      <td>9.132252</td>\n",
              "      <td>944.50</td>\n",
              "      <td>65.0</td>\n",
              "      <td>671.75</td>\n",
              "      <td>68.0</td>\n",
              "      <td>1774.5</td>\n",
              "      <td>798.50</td>\n",
              "      <td>27.324999</td>\n",
              "      <td>57.075000</td>\n",
              "      <td>2.042587</td>\n",
              "    </tr>\n",
              "    <tr>\n",
              "      <th>6532</th>\n",
              "      <td>2.4</td>\n",
              "      <td>1194.50</td>\n",
              "      <td>-200</td>\n",
              "      <td>10.963458</td>\n",
              "      <td>1013.00</td>\n",
              "      <td>355.0</td>\n",
              "      <td>645.75</td>\n",
              "      <td>104.0</td>\n",
              "      <td>1344.5</td>\n",
              "      <td>1275.75</td>\n",
              "      <td>14.475000</td>\n",
              "      <td>62.325001</td>\n",
              "      <td>1.021644</td>\n",
              "    </tr>\n",
              "    <tr>\n",
              "      <th>2363</th>\n",
              "      <td>0.5</td>\n",
              "      <td>797.50</td>\n",
              "      <td>-200</td>\n",
              "      <td>3.402194</td>\n",
              "      <td>676.50</td>\n",
              "      <td>35.0</td>\n",
              "      <td>1091.50</td>\n",
              "      <td>44.0</td>\n",
              "      <td>1473.0</td>\n",
              "      <td>696.00</td>\n",
              "      <td>20.175000</td>\n",
              "      <td>53.775001</td>\n",
              "      <td>1.256906</td>\n",
              "    </tr>\n",
              "    <tr>\n",
              "      <th>4895</th>\n",
              "      <td>6.5</td>\n",
              "      <td>1728.00</td>\n",
              "      <td>-200</td>\n",
              "      <td>35.871083</td>\n",
              "      <td>1683.25</td>\n",
              "      <td>623.0</td>\n",
              "      <td>418.50</td>\n",
              "      <td>188.0</td>\n",
              "      <td>2365.0</td>\n",
              "      <td>1861.00</td>\n",
              "      <td>25.425000</td>\n",
              "      <td>47.925000</td>\n",
              "      <td>1.534608</td>\n",
              "    </tr>\n",
              "  </tbody>\n",
              "</table>\n",
              "</div>"
            ],
            "text/plain": [
              "      CO(GT)  PT08.S1(CO)  NMHC(GT)  ...          T         RH        AH\n",
              "1894     1.7      1039.25      -200  ...  27.975000  23.175000  0.861267\n",
              "3462     1.9      1141.75      -200  ...  27.324999  57.075000  2.042587\n",
              "6532     2.4      1194.50      -200  ...  14.475000  62.325001  1.021644\n",
              "2363     0.5       797.50      -200  ...  20.175000  53.775001  1.256906\n",
              "4895     6.5      1728.00      -200  ...  25.425000  47.925000  1.534608\n",
              "\n",
              "[5 rows x 13 columns]"
            ]
          },
          "metadata": {},
          "execution_count": 4
        }
      ]
    },
    {
      "cell_type": "markdown",
      "metadata": {
        "id": "EBFFKYFvjPjY"
      },
      "source": [
        "The target variable corresponds to the CO(GT) variable of the first column. The following columns correspond to the variables in the feature vectors, *e.g.*, PT08.S1(CO) is $x_1$ up until AH which is $x_D$. The original dataset also has a date and a time columns that we are not going to use in this assignment.\n",
        "\n",
        "### Removing instances \n",
        "\n",
        "The dataset has missing values tagged with a -200 value. To simplify the design of the machine learning models in this assignment, we perform the following two operations to the dataset right from the beginning:\n",
        "\n",
        "* we will remove the rows for which the target variable has missing values. We are doing supervised learning so we need all our data observations to have known target values.\n",
        "\n",
        "* we will remove features with more than 20% of missing values. \n",
        "\n",
        "The code below performs both operations"
      ]
    },
    {
      "cell_type": "code",
      "metadata": {
        "id": "Av_CpbIBjPja"
      },
      "source": [
        "# We first remove the rows for which there are missing values in the target feature\n",
        "air_quality = air_quality_full.loc[air_quality_full.iloc[:, 0]!=-200, :]"
      ],
      "execution_count": null,
      "outputs": []
    },
    {
      "cell_type": "code",
      "metadata": {
        "id": "YXaYHJlpjPjb"
      },
      "source": [
        "# We now remove the columns (features) for which there are more that 20% of missing values\n",
        "import numpy as np\n",
        "ndata, ncols = np.shape(air_quality) # number of data observations and number of columns in the dataframe\n",
        "pmissing = np.empty(ncols)         # An empty vector that will keep the percentage of missing values per feature\n",
        "for i in range(ncols):\n",
        "    pmissing[i] = (air_quality.iloc[:, i]==-200).sum()/ndata # Computes the percentage of missing values per column\n",
        "air_quality = air_quality.loc[:, pmissing < 0.2]"
      ],
      "execution_count": null,
      "outputs": []
    },
    {
      "cell_type": "markdown",
      "metadata": {
        "id": "rWDzeBK2jPjc"
      },
      "source": [
        "### Splitting the dataset \n",
        "\n",
        "Before designing any machine learning model, we need to set aside the test data. We will use the remaining training data for fitting the model. *It is important to remember that the test data has to be set aside before preprocessing*. \n",
        "\n",
        "Any preprocessing that you do has to be done only on the training data and several key statistics need to be saved for the test stage.  Separating the dataset into training and test before any preprocessing has happened help us to recreate the real world scenario where we will deploy our system and for which the data will come without any preprocessing.\n",
        "\n",
        "Furthermore, we are going to use *hold-out validation* for validating our predictive model so we need to further separate the training data into a training set and a validation set.\n",
        "\n",
        "We split the dataset into a training set, a validation set and a test set. The training set will have 70% of the total observations, the validation set 15% and the test set, the remaining 15%. For making the random selections of the training and validation sets **make sure that you use a random seed that corresponds to the last five digits of your student UCard**. In the code below, I have used 55555 as an example of my random seed."
      ]
    },
    {
      "cell_type": "code",
      "metadata": {
        "id": "Q86-nfPzjPjd"
      },
      "source": [
        "np.random.seed(68744)                 # Make sure you use the last five digits of your student UCard as your seed\n",
        "index = np.random.permutation(ndata)  # We permute the indexes \n",
        "N = np.int64(np.round(0.70*ndata))    # We compute N, the number of training instances\n",
        "Nval = np.int64(np.round(0.15*ndata)) # We compute Nval, the number of validation instances   \n",
        "Ntest = ndata - N - Nval              # We compute Ntest, the number of test instances\n",
        "data_training_unproc = air_quality.iloc[index[0:N], :].copy() # Select the training data\n",
        "data_val_unproc = air_quality.iloc[index[N:N+Nval], :].copy() # Select the validation data\n",
        "data_test_unproc = air_quality.iloc[index[N+Nval:ndata], :].copy() # Select the test data\n",
        "#68744 u card"
      ],
      "execution_count": null,
      "outputs": []
    },
    {
      "cell_type": "markdown",
      "metadata": {
        "id": "GFINQ0lYjPje"
      },
      "source": [
        "The assigment is divided into two sections. In the **first section**, you will design a regularised ridge regression model trained with stochastic gradient descent. You will write all the code from scratch. You should not use any library that already implements any of the routines considered in this section, for example, scikit-learn. In the **second section**, you will design a random forests model and you are allowed to use scikit-learn in this section.\n",
        "\n",
        "When writing your code, you will find out that there are operations that are repeated at least twice. We will assign marks for use of Python functions and for commenting your code. The marks will be assigned as:\n",
        "\n",
        "* Did you include Python functions to solve the question and avoid repeating code? (**1 mark**)\n",
        "* Did you comment your code to make it readable to others? (**1 mark**)"
      ]
    },
    {
      "cell_type": "markdown",
      "metadata": {
        "id": "8pMSJzYojPjf"
      },
      "source": [
        "# 1. Using regularised ridge regression to predict air quality (10 marks)\n",
        "\n",
        "**DO NOT USE scikit-learn or any other machine learning library for the questions on this section. You are meant to write Python code from scratch. You can use Pandas and Numpy. Using scikit-learn or any other machine learning library for the questions in this section will give ZERO marks. No excuse will be accepted.**\n",
        "\n",
        "Regularisation is a technique commonly used in Machine Learning to prevent overfitting. It consists on adding terms to the objective function such that the optimisation procedure avoids solutions that just learn the training data. Popular techniques for regularisation in Supervised Learning include [Lasso Regression](https://en.wikipedia.org/wiki/Lasso_(statistics)), [Ridge Regression](https://en.wikipedia.org/wiki/Tikhonov_regularization) and the [Elastic Net](https://en.wikipedia.org/wiki/Elastic_net_regularization). \n",
        "\n",
        "In this part of the Assignment, you will be looking at Ridge Regression and implementing equations to optimise the objective function using the update rules for stochastic gradient descent. You will use those update rules for making predictions on the Air Quality dataset.\n",
        "\n",
        "## 1.1 Ridge Regression\n",
        "\n",
        "Let us start with a data set for training $\\mathcal{D} = \\{\\mathbf{y}, \\mathbf{X}\\}$, where the vector $\\mathbf{y}=[y_1, \\cdots, y_N]^{\\top}$ and $\\mathbf{X}$ is the design matrix from Lab 4, this is, \n",
        "\n",
        "\\begin{align*}\n",
        "    \\mathbf{X} = \n",
        "                \\begin{bmatrix}\n",
        "                        1 & x_{1,1} & \\cdots & x_{1, D}\\\\\n",
        "                        1 & x_{2,1} & \\cdots & x_{2, D}\\\\\n",
        "                   \\vdots &  \\vdots\\\\\n",
        "                        1 & x_{N,1} & \\cdots & x_{N, D}\n",
        "                \\end{bmatrix}\n",
        "               = \n",
        "               \\begin{bmatrix}\n",
        "                      \\mathbf{x}_1^{\\top}\\\\\n",
        "                       \\mathbf{x}_2^{\\top}\\\\\n",
        "                          \\vdots\\\\\n",
        "                        \\mathbf{x}_N^{\\top}\n",
        "                \\end{bmatrix}.\n",
        "\\end{align*}\n",
        "\n",
        "Our predictive model is going to be a linear model\n",
        "\n",
        "$$ f(\\mathbf{x}_i) = \\mathbf{w}^{\\top}\\mathbf{x}_i,$$\n",
        "\n",
        "where $\\mathbf{w} = [w_0\\; w_1\\; \\cdots \\; w_D]^{\\top}$.\n",
        "\n",
        "The **objective function** we are going to use has the following form\n",
        "\n",
        "$$ E(\\mathbf{w}, \\lambda) = \\frac{1}{N}\\sum_{n=1}^N (y_n - f(\\mathbf{x}_n))^2 + \\frac{\\lambda}{2}\\sum_{j=0}^D w_j^2,$$\n",
        "\n",
        "where $\\lambda>0$ is known as the *regularisation* parameter.\n",
        "\n",
        "This objective function was studied in Lecture 4. \n",
        "\n",
        "The first term on the rhs is what we call the \"fitting\" term whereas the second term in the expression is the regularisation term. Given $\\lambda$, the two terms in the expression have different purposes. The first term is looking for a value of $\\mathbf{w}$ that leads the squared-errors to zero. While doing this, $\\mathbf{w}$ can take any value and lead to a solution that it is only good for the training data but perhaps not for the test data. The second term is regularising the behavior of the first term by driving the $\\mathbf{w}$ towards zero. By doing this, it restricts the possible set of values that $\\mathbf{w}$ might take according to the first term. The value that we use for $\\lambda$ will allow a compromise between a value of $\\mathbf{w}$ that exactly fits the data (first term) or a value of $\\mathbf{w}$ that does not grow too much (second term).\n",
        "\n",
        "This type of regularisation has different names: ridge regression, Tikhonov regularisation or $\\ell_2$ norm regularisation. \n",
        "\n",
        "## 1.2 Optimising the objective function with respect to $\\mathbf{w}$\n",
        "\n",
        "There are two ways we can optimise the objective function with respect to $\\mathbf{w}$. The first one leads to a closed form expression for $\\mathbf{w}$ and the second one using an iterative optimisation procedure that updates the value of $\\mathbf{w}$ at each iteration by using the gradient of the objective function with respect to $\\mathbf{w}$,\n",
        "$$\n",
        "\\mathbf{w}_{\\text{new}} = \\mathbf{w}_{\\text{old}} - \\eta \\frac{d E(\\mathbf{w}, \\lambda)}{d\\mathbf{w}},\n",
        "$$\n",
        "where $\\eta$ is the *learning rate* parameter and $\\frac{d E(\\mathbf{w}, \\lambda)}{d\\mathbf{w}}$ is the gradient of the objective function.\n",
        "\n",
        "It can be shown (this is a question in the Exercise Sheet 4) that a closed-form expression for the optimal $\\mathbf{w}_*$ is given as\n",
        "\n",
        "\\begin{align*}            \n",
        "            \\mathbf{w}_*& = \\left(\\mathbf{X}^{\\top}\\mathbf{X} + \\frac{\\lambda N}   \n",
        "                                     {2}\\mathbf{I}\\right)^{-1}\\mathbf{X}^{\\top}\\mathbf{y}.\n",
        "\\end{align*}\n",
        "\n",
        "Alternatively, we can find an update equation for $\\mathbf{w}_{\\text{new}}$ using gradient descent leading to:\n",
        "\n",
        "\\begin{align*}\n",
        "   \\mathbf{w}_{\\text{new}} & = \\mathbf{w}_{\\text{old}} - \\eta \\frac{d E(\\mathbf{w}, \\lambda)}\n",
        "                              {d\\mathbf{w}},\\\\\n",
        "                           & = \\mathbf{w}_{\\text{old}} +  \\frac{2\\eta}{N}\\sum_{n=1}^N   \n",
        "                               \\left(y_n - \\mathbf{x}_n^{\\top}\\mathbf{w}_{\\text{old}}\\right)\\mathbf{x}_n  \n",
        "                       - \\eta\\lambda\\mathbf{w}_{\\text{old}}\\\\\n",
        "                           & = (1 - \\eta\\lambda)\\mathbf{w}_{\\text{old}} + \\frac{2\\eta}\n",
        "                               {N}\\sum_{n=1}^N   \n",
        "                               \\left(y_n - \\mathbf{x}_n^{\\top}\\mathbf{w}_{\\text{old}}\\right)\\mathbf{x}_n\n",
        "\\end{align*}"
      ]
    },
    {
      "cell_type": "markdown",
      "metadata": {
        "id": "K-rfm1WfjPjf"
      },
      "source": [
        "## 1.3 Preprocessing the data\n",
        "\n",
        "As mentioned before, the dataset has missing values tagged with a -200 value. Before doing any work with the training data, we want to make sure that we deal properly with the missing values. Furthermore, once we have dealt with the missing values, we want to standardise the training data. \n",
        "\n",
        "### Question 1.a: Missing values and standardisation (2 marks)\n",
        "\n",
        "* For all the other features with missing values, use the mean value of the non-missing values for that feature to perform imputation. Save these mean values, you will need them when performing the validation stage (**1 mark**).\n",
        "\n",
        "* Once you have imputed the missing data, we need to standardise the input vectors. Standardise the training data by substracting the mean value for each feature and dividing the result by the standard deviation of each feature. Keep the mean values and standard deviations, you will need them at validation time (**1 mark**).\n",
        "\n",
        "#### Question 1.a Answer"
      ]
    },
    {
      "cell_type": "code",
      "metadata": {
        "colab": {
          "base_uri": "https://localhost:8080/",
          "height": 1000
        },
        "id": "DoKV0chdjPjf",
        "outputId": "9cafcf9e-fed6-48ea-dab5-42fdd048e27b"
      },
      "source": [
        "pl_hld = pd.DataFrame(columns = data_training_unproc.columns)\n",
        "\n",
        "for i in data_training_unproc:\n",
        "  # Need a temporary data set with all the non-missing values from the training dataset\n",
        "  plhld_var = data_training_unproc[data_training_unproc[i]!=-200]\n",
        "  pl_hld[i] = plhld_var[i]\n",
        "\n",
        "#Calculate the mean of all values inside the placeholder\n",
        "cmean = pl_hld.mean()\n",
        "\n",
        "\n",
        "#imputation\n",
        "# overwrite the missing values in the training dataset with the means\n",
        "train_replace = data_training_unproc.replace(-200, cmean)\n",
        "\n",
        "#Calculate the standard deviation of every value inside the training dataset\n",
        "standard_dev = train_replace.std()\n",
        "\n",
        "#STANDARDIZATION of training data\n",
        "train_dataset = (train_replace - cmean)/standard_dev\n",
        "\n",
        "\n",
        "#SANITY CHECK# Make sure that the notebook displays the plot properly\n",
        "%matplotlib inline\n",
        "from matplotlib import pyplot\n",
        "pyplot.style.use('dark_background')\n",
        "train_dataset.hist(bins=30, figsize=(15, 13))"
      ],
      "execution_count": null,
      "outputs": [
        {
          "output_type": "execute_result",
          "data": {
            "text/plain": [
              "array([[<matplotlib.axes._subplots.AxesSubplot object at 0x7fa720288810>,\n",
              "        <matplotlib.axes._subplots.AxesSubplot object at 0x7fa72005aa90>,\n",
              "        <matplotlib.axes._subplots.AxesSubplot object at 0x7fa7206b40d0>],\n",
              "       [<matplotlib.axes._subplots.AxesSubplot object at 0x7fa71fdc26d0>,\n",
              "        <matplotlib.axes._subplots.AxesSubplot object at 0x7fa71fd81cd0>,\n",
              "        <matplotlib.axes._subplots.AxesSubplot object at 0x7fa71fd07310>],\n",
              "       [<matplotlib.axes._subplots.AxesSubplot object at 0x7fa71fe80990>,\n",
              "        <matplotlib.axes._subplots.AxesSubplot object at 0x7fa71fd37ed0>,\n",
              "        <matplotlib.axes._subplots.AxesSubplot object at 0x7fa71fd37f10>],\n",
              "       [<matplotlib.axes._subplots.AxesSubplot object at 0x7fa71fcbe650>,\n",
              "        <matplotlib.axes._subplots.AxesSubplot object at 0x7fa71fdf8190>,\n",
              "        <matplotlib.axes._subplots.AxesSubplot object at 0x7fa71fc70790>]],\n",
              "      dtype=object)"
            ]
          },
          "metadata": {},
          "execution_count": 8
        },
        {
          "output_type": "display_data",
          "data": {
            "image/png": "[encoded data removed]",
            "text/plain": [
              "<Figure size 1080x936 with 12 Axes>"
            ]
          },
          "metadata": {}
        }
      ]
    },
    {
      "cell_type": "markdown",
      "metadata": {
        "id": "L7DDUQOFjPjg"
      },
      "source": [
        "## 1.4 Training and validation stages\n",
        "\n",
        "We have now curated our training data by removing data observations and features with a large amount of missing values. We have also normalised the feature vectors. We are now in a good position to work on developing the prediction model and validating it. We will use gradient descent for iterative optimisation. \n",
        "\n",
        "We first organise the dataframe into the vector of targets $\\mathbf{y}$, call it `yTrain`, and the design matrix $\\mathbf{X}$, call it `XTrain`."
      ]
    },
    {
      "cell_type": "code",
      "metadata": {
        "id": "k-Sdur68jPjh",
        "colab": {
          "base_uri": "https://localhost:8080/"
        },
        "outputId": "fe8bd24c-a87c-47e2-f411-8106bfee9c6a"
      },
      "source": [
        "#Training Dataset separated into design model xTrain, from column PT08.S1(CO) all the way to the last column (AH)\n",
        "xTrain = pd.DataFrame(train_dataset.iloc[:, 1:train_dataset.last_valid_index()])\n",
        "\n",
        "#For yTrain we need to reverse the standardization, otherwise it will affect the computation of w, using minibatch gradient descent.\n",
        "NoStan_train = train_dataset*standard_dev\n",
        "\n",
        "\n",
        "#Training Dataset separated into the vector of targets y, called yTrain. take the first column CO(GT)\n",
        "yTrain = pd.DataFrame(NoStan_train.iloc[:, 0])\n",
        "\n",
        "\n",
        "print(xTrain)\n",
        "print(yTrain)"
      ],
      "execution_count": null,
      "outputs": [
        {
          "output_type": "stream",
          "name": "stdout",
          "text": [
            "      PT08.S1(CO)  C6H6(GT)  PT08.S2(NMHC)  ...         T        RH        AH\n",
            "1097    -1.165636 -1.032958      -1.201617  ... -0.060000 -0.829593 -0.787680\n",
            "2756    -1.006900 -0.570714      -0.500915  ...  2.261076 -1.947816  0.032375\n",
            "3479    -0.287917  0.358418       0.512274  ...  2.198034 -1.548763  1.026382\n",
            "6798     0.483589  0.720063       0.840099  ... -1.128841 -0.594254 -1.461240\n",
            "3764    -1.310367 -0.943068      -1.044414  ...  1.960196 -1.443519  0.895207\n",
            "...           ...       ...            ...  ...       ...       ...       ...\n",
            "9344    -0.933367 -1.201460      -1.549571  ... -0.641702  0.418724 -0.496819\n",
            "5636    -0.234226 -0.378473      -0.262236  ...  0.601936  0.965411  2.115502\n",
            "8767    -0.395297 -0.755668      -0.753973  ... -1.243462 -0.250748 -1.380082\n",
            "4574    -0.353279 -0.089026       0.063672  ...  0.229418  0.503504  0.828326\n",
            "6776    -0.119843 -0.709240      -0.687833  ... -0.610181  1.440472  0.179590\n",
            "\n",
            "[5372 rows x 11 columns]\n",
            "        CO(GT)\n",
            "1097 -1.259661\n",
            "2756 -1.359661\n",
            "3479 -0.259661\n",
            "6798  1.440339\n",
            "3764 -1.459661\n",
            "...        ...\n",
            "9344 -1.659661\n",
            "5636 -0.659661\n",
            "8767 -0.759661\n",
            "4574  0.040339\n",
            "6776 -0.759661\n",
            "\n",
            "[5372 rows x 1 columns]\n"
          ]
        }
      ]
    },
    {
      "cell_type": "markdown",
      "metadata": {
        "id": "zvp6k3CNjPjh"
      },
      "source": [
        "### Question 1.b: finding the optimal $\\mathbf{w}$ with stochastic gradient descent (3 marks)\n",
        "\n",
        "Use gradient descent to iteratively compute the value of $\\mathbf{w}_{\\text{new}}$. Instead of using all the training set in `XTrain` and `yTrain` to compute the gradient, use a subset of $S$ instances in `XTrain` and `yTrain`. This is sometimes called *minibatch gradient descent* where $S$ is the size of the minibacth. When using gradient descent with minibatches, you need to find the best values for three parameters: $\\eta$, the learning rate, $S$, the number of datapoints in the minibatch and $\\gamma$, the regularisation parameter.\n",
        "\n",
        "* In this question we will use the validation data. So before proceeding to the next steps, make sure that you:  replace the missing values on each feature variables with the mean value you computed with the training data; standardise the validation data using the means and standard deviations computed from the training data (**1 mark**).\n",
        "    \n",
        "* Create a grid of values for the parameters $\\gamma$ and $\\eta$ using `np.logspace` and a grid of values for $S$ using `np.linspace`. Because you need to find three parameters, start with five values for each parameter in the grid and see if you can increase it. Make sure you understand what is the meaning of `np.logspace` and `np.linspace`. Notice that you can use negative values for `start` in `np.logspace` (**1 mark**).\n",
        "\n",
        "* For each value that you have of $\\gamma$, $\\eta$ and $S$ from the previous step, use the training set to compute $\\mathbf{w}$ using minibatch gradient descent and then measure the RMSE over the validation data. For the validation data, make sure you preprocess it before applying the prediction model over it. For the minibatch gradient descent choose to stop the iterative procedure after $200$ iterations (**1 mark**).\n",
        "\n",
        "* Choose the values of $\\gamma$, $\\eta$ and $S$ that lead to the lowest RMSE and save them. You will use them at the test stage.\n",
        "\n",
        "#### Question 1.b Answer"
      ]
    },
    {
      "cell_type": "code",
      "metadata": {
        "id": "Vk13cl0NjPji"
      },
      "source": [
        "# replace the missing values on each feature variables with the mean value you computed with the training data\n",
        "\n",
        "#standardise the validation data using the means and standard deviations computed from the training data\n",
        "\n",
        "#VALIDATION DATA\n",
        "val_replace = data_val_unproc.replace(-200, cmean)\n",
        "\n",
        "Val_dataset = (val_replace - cmean)/standard_dev\n",
        "\n",
        "#Validation Dataset separated into design model xTrain, from column PT08.S1(CO) all the way to the last column (AH)\n",
        "xVal = pd.DataFrame(Val_dataset.iloc[:, 1:Val_dataset.last_valid_index()])\n",
        "\n",
        "#For yVal we need to reverse the standardization, otherwise it will affect the computation of w, using minibatch gradient descent.\n",
        "NoStan_Val = Val_dataset*standard_dev\n",
        "\n",
        "#Validation Dataset separated into the vector of targets y, called yTrain. take the first column CO(GT)\n",
        "yVal = pd.DataFrame(NoStan_Val.iloc[:, 0])\n",
        "\n",
        "\n",
        "\n",
        "#find 3 param γ, η and S, each must have at least 5 in the grid\n",
        "\n",
        "  #np.logspace => γ, η\n",
        "γ_log = np.logspace(-13.0,\n",
        "               -12.0,\n",
        "               num = 5,\n",
        "               endpoint = True,\n",
        "               base = 2.0,\n",
        "               dtype = None)\n",
        "\n",
        "print(\"γ_log\\n\", γ_log,'\\n')\n",
        "\n",
        "# 3.0,               4.0,\n",
        "η_log = np.logspace(-8.0,\n",
        "                    -7.0,\n",
        "               num = 5,\n",
        "               endpoint = True,\n",
        "               base = 2.0,\n",
        "               dtype = None)\n",
        "\n",
        "print(\"η_log\\n\", η_log, '\\n')\n",
        "\n",
        "  #np.linspace => S\n",
        "\n",
        "S_lin = np.linspace(95,\n",
        "                    100,\n",
        "               num = 5,\n",
        "               endpoint = True,\n",
        "               retstep = False,\n",
        "               dtype = int)\n",
        "\n",
        "print('S_lin\\n', S_lin)\n",
        "\n",
        "#S is the size of the minibacth.\n",
        "# When using gradient descent with minibatches, you need to find the best values for three parameters:\n",
        " # η, the learning rate, \n",
        " # S, the number of datapoints in the minibatch \n",
        " # and γ, the regularisation parameter.\n",
        "\n",
        "\n",
        "# linear regression using \"mini-batch\" gradient descent\n",
        "# Compute hypothesis / predictions\n",
        "def hypothesis(X, theta):\n",
        "    return np.dot(X, theta)\n",
        "\n",
        "  \n",
        "# Compute gradient of error function w.r.t. theta\n",
        "def gradient(X, y, theta):\n",
        "    h = hypothesis(X, theta)\n",
        "    grad = np.dot(X.transpose(), (h - y))\n",
        "   \n",
        "    return grad\n",
        "\n",
        "#Cost function for ridge regression \n",
        "def cost_Reg(X,y,theta,lmd):\n",
        "    m = len(y) \n",
        "    h = hypothesis(X, theta)\n",
        "    J_reg = (lmd / (2*m)) * np.sum(np.square(theta))\n",
        "    J = float((1./(2*m)) * np.dot((h - y).transpose(), (h - y))) + J_reg\n",
        "    \n",
        "    return J \n",
        "\n",
        "#Create a list containing randomized mini-batches\n",
        "# For the minibatch gradient descent choose to stop the iterative procedure after 200 iterations\n",
        "def create_mini_batches(X, y, batch_size):\n",
        "    mini_batches = []\n",
        "    data = np.hstack((X, y))\n",
        "    np.random.shuffle(data)\n",
        "    n_minibatches = data.shape[0] // batch_size\n",
        "    i = 0\n",
        "  \n",
        "    for i in range(n_minibatches + 1):\n",
        "        mini_batch = data[i * batch_size:(i + 1)*batch_size, :]\n",
        "        X_mini = mini_batch[:, :-1]\n",
        "        Y_mini = mini_batch[:, -1].reshape((-1, 1))\n",
        "        mini_batches.append((X_mini, Y_mini))\n",
        "    if data.shape[0] % batch_size != 0:\n",
        "        mini_batch = data[i * batch_size:data.shape[0]]\n",
        "        X_mini = mini_batch[:, :-1]\n",
        "        Y_mini = mini_batch[:, -1].reshape((-1, 1))\n",
        "        mini_batches.append((X_mini, Y_mini))\n",
        "    return mini_batches\n",
        "   \n",
        "  \n",
        "#Calculate mini-batch Gradient descent for ridge regression\n",
        "def gradient_descent_reg(X,y,learning_rate,lmd, batch_size):\n",
        "    m = np.size(y)\n",
        "    theta = np.zeros((X.shape[1], 1))\n",
        "    nr_iters = 200\n",
        "    errors = []\n",
        "\n",
        "    for itr in range(nr_iters):\n",
        "        mini_batches = create_mini_batches(X, y, batch_size)\n",
        "\n",
        "        for mini_batch in mini_batches:\n",
        "            X_mini, y_mini = mini_batch\n",
        "            theta = theta - learning_rate *(1/m)* (gradient(X, y, theta) + lmd * theta) \n",
        "            errors.append(cost_Reg(X_mini, y_mini, theta, lmd))\n",
        "            \n",
        "    return theta ,errors\n",
        "\n",
        "\n",
        "#Replace learning rate n and batch size S for every version and the other variables\n",
        "\n",
        "\n",
        "\n",
        " # η, is the learning rate, \n",
        " # S, the number of datapoints in the minibatch (batch size) \n",
        " # and γ, the regularisation parameter.\n",
        "\n",
        "# Will need to use this again, better to have it defined as a function \n",
        "def Find_RMSE(x,y, x_v, y_v):\n",
        "  RMSE = 10000\n",
        "#Loop this for all batch_size,learning_rate ,lmd values\n",
        "#make a function for later use\n",
        "  for j in η_log:\n",
        "    for t in S_lin:\n",
        "      for i in γ_log:\n",
        "\n",
        "\n",
        "        print('\\nη_log is: ', j,'\\nS_lin is: ', t,'\\nγ_log is: ', i)\n",
        "        # learning_rate = j\n",
        "        # batch_size = t\n",
        "        # lambda = i\n",
        "      \n",
        "        #Performs L2 regularization, i.e. adds penalty equivalent to square of the magnitude of coefficients\n",
        "        theta, errors = gradient_descent_reg(x, y,j, i,t)\n",
        "\n",
        "\n",
        "        print(\"\\nBias = \", theta[0])\n",
        "        print(\"\\nCoefficients = \", theta[1:])\n",
        "\n",
        "    \n",
        "        y_pred = hypothesis(x_v, theta)\n",
        "\n",
        "\n",
        "        #Compute the w of the ridge regression, using the training set\n",
        "     \n",
        "        n, m = x.shape\n",
        "        I = np.identity(m)\n",
        "        w = np.dot(np.dot(np.linalg.inv(np.dot(x.transpose(), x) + i * I), x.transpose()), y)\n",
        "\n",
        "        print('\\nw is :',w)\n",
        "\n",
        "        # Measure the RMSE over the validation data\n",
        "        temp_RMSE = float(np.sqrt(np.mean((y_v   - y_pred)**2)))\n",
        "\n",
        "        #Store the smallest value of RMSE and save the \n",
        "        if RMSE > temp_RMSE:\n",
        "          RMSE = temp_RMSE\n",
        "          γ_log_sol = i\n",
        "          η_log_sol = j\n",
        "          S_lin_sol = t\n",
        "\n",
        "          print('\\nTemporary finds: ', RMSE,' ', γ_log_sol, ' ',η_log_sol, ' ',S_lin_sol)\n",
        "\n",
        "  return RMSE,γ_log_sol, η_log_sol, S_lin_sol\n",
        "\n",
        "#IV#\n",
        "#Choose the values of γ, η and S that lead to the lowest RMSE and save them. You will use them at the test stage.\n",
        "\n",
        "RMSE,γ_log_sol,η_log_sol,S_lin_sol= Find_RMSE(xTrain, yTrain, xVal, yVal)\n",
        "\n",
        "print(\"\\nRoot Mean Square Error = \", RMSE)\n",
        "print('\\nVariable η_log is: ', η_log_sol,'\\nnVariable S_lin is: ', S_lin_sol,'\\nnVariable γ_log is: ', γ_log_sol)"
      ],
      "execution_count": null,
      "outputs": []
    },
    {
      "cell_type": "markdown",
      "metadata": {
        "id": "4jaOW3qcjPji"
      },
      "source": [
        "## 1.5 Test stage \n",
        "\n",
        "We now know which one is the best model, according to the validation data. We will now put together the training data and the validation data, perform the preprocessing as we did before, this is, treat the missing values and standardise the inputs. We will train the model again using the minibatch stochastic gradient descent and finally compute the RMSE over the test data.\n",
        "\n",
        "\n",
        "### Question 1.c: combine the original training and original validation data and perform the preprocessing again to this new data (2 marks)\n",
        "\n",
        "Put together the original training and validation dataset and perform the same preprocessing steps than before, these are: \n",
        "\n",
        "* for each feature, impute the missing values with the mean values of the non-missing values (**1 mark**) \n",
        "\n",
        "* stardardise the new training set (**1 mark**).\n",
        "\n",
        "#### Question 1.c Answer"
      ]
    },
    {
      "cell_type": "code",
      "metadata": {
        "id": "v-2O8oJ5jPji"
      },
      "source": [
        "\n",
        "\n",
        "# Training_unprocesed + Validation_unprocesed dataset\n",
        "new_data = [data_val_unproc, data_training_unproc]\n",
        "  \n",
        "new_unproc_train = pd.concat(new_data)\n",
        "display(new_unproc_train)\n",
        "\n",
        "#Calculate the means of the non-missing values\n",
        "pl_hld_2 = pd.DataFrame(columns = new_unproc_train.columns)\n",
        "\n",
        "for i in new_unproc_train:\n",
        "  # Need a temporary data set with all the non-missing values from the new training dataset\n",
        "  plhld_var_2 = new_unproc_train[new_unproc_train[i]!=-200]\n",
        "  pl_hld_2[i] = plhld_var_2[i]\n",
        "\n",
        "#Calculate the mean of all values inside the placeholder\n",
        "new_mean = pl_hld_2.mean()\n",
        "\n",
        "#Calculate the standard deviation\n",
        "standard_dev_2 = new_unproc_train.std()\n",
        "\n",
        "#Replace missing values with the mean values of the non-missing values\n",
        "new_replace = new_unproc_train.replace(-200, new_mean)\n",
        "\n",
        "#Standardise the new training set\n",
        "new_train_dataset = (new_replace - new_mean)/standard_dev_2\n",
        "\n",
        "\n",
        "#New Testing Dataset separated into the vector of targets y, called x_newTrain. take the first column CO(GT)\n",
        "x_newTrain = pd.DataFrame(new_train_dataset.iloc[:, 1:new_train_dataset.last_valid_index()])\n",
        "\n",
        "#New Testing Dataset separated into the vector of targets y, called y_newTrain. take the first column CO(GT)\n",
        "y_newTrain = pd.DataFrame(new_train_dataset.iloc[:, 0])\n"
      ],
      "execution_count": null,
      "outputs": []
    },
    {
      "cell_type": "markdown",
      "metadata": {
        "id": "d4DB_F8PjPjj"
      },
      "source": [
        "### Question 1.d: Preprocess the test data, train the model and predict over the test data (3 marks)\n",
        "\n",
        "Preprocess the test data and train a new model using the new training set. Finally, report the RMSE over the test set:\n",
        "\n",
        "* Preprocess the test data by imputing the missing data and standardising it (**1 mark**). \n",
        "\n",
        "* Use the best values of $\\gamma$, $\\eta$ and $S$ found in the validation set and train a new regularised linear model with stochastic gradient descent (**1 mark**).\n",
        "\n",
        "* Report the RMSE over the test data (**1 mark**).\n",
        "\n",
        "#### Question 1.d Answer"
      ]
    },
    {
      "cell_type": "code",
      "metadata": {
        "id": "gpyzoCYSjPjj"
      },
      "source": [
        "# Write your code here\n",
        "\n",
        "# Preprocess TEST DATA\n",
        "\n",
        "#Calculate the means of the non-missing values\n",
        "pl_hld_3 = pd.DataFrame(columns = data_test_unproc.columns)\n",
        "\n",
        "for i in new_unproc_train:\n",
        "  # Need a temporary data set with all the non-missing values from the test dataset\n",
        "  plhld_var_3 = data_test_unproc[data_test_unproc[i]!=-200]\n",
        "  pl_hld_3[i] = plhld_var_3[i]\n",
        "\n",
        "#Calculate the mean of all values inside the placeholder\n",
        "tmean = pl_hld_3.mean()\n",
        "\n",
        "#Calculate the standard deviation\n",
        "standard_dev_3 = data_test_unproc.std()\n",
        "\n",
        "#Replace missing values with the mean values of the non-missing values\n",
        "data_test_unproc = data_test_unproc.replace(-200, tmean)\n",
        "\n",
        "#Standardise the new testing set\n",
        "TST_dataset = (data_test_unproc - tmean)/standard_dev_3\n",
        "\n",
        "\n",
        " x_Test = pd.DataFrame(TST_dataset.iloc[:, 1:TST_dataset.last_valid_index()])\n",
        "\n",
        "# New Testing Dataset separated into the vector of targets y, called y_newTrain. take the first column CO(GT)\n",
        " y_Test = pd.DataFrame(TST_dataset.iloc[:, 0])\n",
        "\n",
        "\n",
        "#Preprocess the test data and train a new model using the new training set\n",
        "\n",
        "\n",
        "#apply method\n",
        "\n",
        "\n",
        "\n",
        "new_RMSE,new_γ_log_sol,new_η_log_sol,new_S_lin_sol= Find_RMSE(x_newTrain, y_newTrain, x_Test,y_Test)\n",
        "\n",
        "print(\"\\nRoot Mean Square Error = \", new_RMSE)\n",
        "print('\\nVariable η_log is: ', new_η_log_sol,'\\nnVariable S_lin is: ', new_S_lin_sol,'\\nnVariable γ_log is: ', new_γ_log_sol)\n",
        "\n",
        "\n",
        "#Use the best γ, η and S found in the validation set for the stochastic gradient descent \n",
        "#display(TST_dataset)\n",
        "# Calculate the RMSE over the test data\n",
        "\n"
      ],
      "execution_count": null,
      "outputs": []
    },
    {
      "cell_type": "markdown",
      "metadata": {
        "id": "v57FxmEnjPjj"
      },
      "source": [
        "# 2. Random forests (13 marks)\n",
        "\n",
        "**USE scikit-learn for the questions on this section.**\n",
        "\n",
        "In section 1, you used a regularised ridge regression model trained with SGD to create a linear predictive model. In this part of the assignment, you will use **scikit-learn** to train a random forest for regression over the air quality dataset.\n",
        "\n",
        "## 2.1 Preprocessing the data\n",
        "\n",
        "As mentioned before, the dataset has missing values tagged with a -200 value. Before doing any work with the training data, we want to make sure that we deal properly with the missing values. Furthermore, once we have dealt with the missing values, we want to standardise the training data. \n",
        "\n",
        "### Question 2.a: Pipeline for missing values and standardisation (3 marks)\n",
        "\n",
        "* Employ the `SimpleImputer` method in Scikit-learn to impute the missing values in each column using the mean value of the non-missing values, instead (**1 mark**).\n",
        "\n",
        "* Standardise the data by substracting the mean value for each feature and dividing the result by the standard deviation of each feature. Employ the `StandardScaler` method (**1 mark**).\n",
        "\n",
        "* Create a `Pipeline` that you can use to preprocess the data by filling missing values and then standardising the features (**1 mark**).\n",
        "\n",
        "#### Question 2.a Answer"
      ]
    },
    {
      "cell_type": "code",
      "metadata": {
        "id": "ihWIaj6xjPjk",
        "colab": {
          "base_uri": "https://localhost:8080/"
        },
        "outputId": "1649545b-efbb-42af-bd51-27d1efe37bbd"
      },
      "source": [
        "\n",
        "# Fit method calculates mean and std on whichever the dataset you choose,\n",
        "# and transform applies the transofrmation with the computed values by the fit.\n",
        "\n",
        "# Importing the SimpleImputer class from sklearn\n",
        "from sklearn.impute import SimpleImputer\n",
        "\n",
        "# Initializing the SimpleImputer object with missing_value and strategy defined\n",
        "imp_mean = SimpleImputer(missing_values = -200, strategy='mean')\n",
        "\n",
        "# Fitting the SimpleImputer using the trainning data set\n",
        "imp_mean.fit(data_training_unproc)\n",
        "\n",
        "# Filling in the missing values in data_training_unproc using the fitted SimpleImputer\n",
        "si_train = imp_mean.transform(data_training_unproc)\n",
        "\n",
        "#Standardise the data by substracting the mean value for each feature and dividing the result by the standard deviation of each feature. \n",
        "#Employ the StandardScaler method.\n",
        "from sklearn.preprocessing import StandardScaler\n",
        "\n",
        "scaler = StandardScaler()\n",
        " \n",
        "\n",
        "# call estimator1.fit_transform(x_train) you compute mean and std on x_train_(and store them) and standarize _x_train. \n",
        "\n",
        "si_train_std=pd.DataFrame(scaler.fit_transform(si_train))\n",
        "\n",
        "# Name the columns\n",
        "si_train_std.columns=train_dataset.columns\n",
        "\n",
        "print('\\n', si_train_std)\n",
        "\n",
        "print(si_train_std is train_dataset)\n",
        "\n",
        "from sklearn.pipeline import Pipeline\n",
        "\n",
        "pl_pipe = Pipeline([('imputer',SimpleImputer(missing_values = -200, strategy='mean')), ('scaler', StandardScaler())])\n",
        "\n",
        "# fit and then transform \n",
        "train_pipe = pd.DataFrame(pl_pipe.fit_transform(data_training_unproc))\n",
        "\n",
        "\n",
        "print('\\n', train_pipe)"
      ],
      "execution_count": null,
      "outputs": [
        {
          "output_type": "stream",
          "name": "stdout",
          "text": [
            "\n",
            "         CO(GT)  PT08.S1(CO)  C6H6(GT)  ...         T        RH        AH\n",
            "0    -0.865286    -1.165745 -1.033054  ... -0.060006 -0.829670 -0.787753\n",
            "1    -0.933978    -1.006994 -0.570767  ...  2.261286 -1.947997  0.032378\n",
            "2    -0.178366    -0.287944  0.358452  ...  2.198239 -1.548908  1.026477\n",
            "3     0.989397     0.483634  0.720130  ... -1.128946 -0.594310 -1.461376\n",
            "4    -1.002670    -1.310489 -0.943156  ...  1.960378 -1.443653  0.895290\n",
            "...        ...          ...       ...  ...       ...       ...       ...\n",
            "5367 -1.140054    -0.933454 -1.201571  ... -0.641761  0.418763 -0.496865\n",
            "5368 -0.453134    -0.234248 -0.378508  ...  0.601992  0.965500  2.115698\n",
            "5369 -0.521826    -0.395334 -0.755739  ... -1.243578 -0.250771 -1.380211\n",
            "5370  0.027710    -0.353312 -0.089034  ...  0.229439  0.503551  0.828403\n",
            "5371 -0.521826    -0.119854 -0.709306  ... -0.610238  1.440606  0.179607\n",
            "\n",
            "[5372 rows x 12 columns]\n",
            "False\n",
            "\n",
            "             0         1         2   ...        9         10        11\n",
            "0    -0.865286 -1.165745 -1.033054  ... -0.060006 -0.829670 -0.787753\n",
            "1    -0.933978 -1.006994 -0.570767  ...  2.261286 -1.947997  0.032378\n",
            "2    -0.178366 -0.287944  0.358452  ...  2.198239 -1.548908  1.026477\n",
            "3     0.989397  0.483634  0.720130  ... -1.128946 -0.594310 -1.461376\n",
            "4    -1.002670 -1.310489 -0.943156  ...  1.960378 -1.443653  0.895290\n",
            "...        ...       ...       ...  ...       ...       ...       ...\n",
            "5367 -1.140054 -0.933454 -1.201571  ... -0.641761  0.418763 -0.496865\n",
            "5368 -0.453134 -0.234248 -0.378508  ...  0.601992  0.965500  2.115698\n",
            "5369 -0.521826 -0.395334 -0.755739  ... -1.243578 -0.250771 -1.380211\n",
            "5370  0.027710 -0.353312 -0.089034  ...  0.229439  0.503551  0.828403\n",
            "5371 -0.521826 -0.119854 -0.709306  ... -0.610238  1.440606  0.179607\n",
            "\n",
            "[5372 rows x 12 columns]\n"
          ]
        }
      ]
    },
    {
      "cell_type": "markdown",
      "metadata": {
        "id": "UoZsdlpDjPjk"
      },
      "source": [
        "### Question 2.b: Use the Pipeline to fit the training data and transform the validation data (2 marks)\n",
        "\n",
        "In the previous question, you created a `Pipeline` for applying a `SimpleImputer` and a `StandardScaler`. Use the Pipeline to fit the training data (**1 mark**) and transform the validation data (**1 mark**).\n",
        "\n",
        "#### Question 2.b Answer"
      ]
    },
    {
      "cell_type": "code",
      "metadata": {
        "id": "Edw7WEUdjPjl",
        "colab": {
          "base_uri": "https://localhost:8080/"
        },
        "outputId": "e0a0294d-5fa0-4e59-8865-b19ffb9f23f4"
      },
      "source": [
        "\n",
        "\n",
        "# Preprocess the validation data\n",
        "\n",
        "#Fit the trainning data into the pipeline\n",
        "pl_pipe.fit(data_training_unproc)\n",
        "\n",
        "#Transform the validation data with the pipeline\n",
        "Mixed_pipe = pd.DataFrame(pl_pipe.transform(data_val_unproc))\n",
        "\n",
        "Mixed_pipe.columns = data_val_unproc.columns\n",
        "print(Mixed_pipe)\n"
      ],
      "execution_count": null,
      "outputs": [
        {
          "output_type": "stream",
          "name": "stdout",
          "text": [
            "        CO(GT)  PT08.S1(CO)  C6H6(GT)  ...         T        RH        AH\n",
            "0    -1.208746    -1.631493 -1.067871  ...  0.518884  0.088381  0.903319\n",
            "1    -0.590518    -0.598442 -0.868524  ... -0.604506  0.871941 -0.169113\n",
            "2    -0.315750    -0.428018 -0.173863  ...  0.914364 -1.738950 -0.911771\n",
            "3    -1.277438    -1.810088 -1.274367  ... -0.272074  0.230182 -0.176386\n",
            "4     1.332857     2.220560  1.506502  ... -0.753527  0.646814 -0.489080\n",
            "...        ...          ...       ...  ...       ...       ...       ...\n",
            "1146  2.019776     3.211589  1.986102  ...  0.152063 -0.455433 -0.220794\n",
            "1147  0.439861     0.503478  0.676349  ...  2.032023 -1.344247  1.261462\n",
            "1148  1.470241     1.640418  2.303466  ...  0.387058  0.990352  1.646772\n",
            "1149  1.538933     1.576217  1.252425  ...  0.157795  0.697979  0.888006\n",
            "1150  0.096401     1.025257  0.360483  ...  1.241064 -0.391111  1.639679\n",
            "\n",
            "[1151 rows x 12 columns]\n"
          ]
        }
      ]
    },
    {
      "cell_type": "markdown",
      "metadata": {
        "id": "zaG_ZWT2jPjl"
      },
      "source": [
        "## 2.2 Random forest to predict air quality \n",
        "\n",
        "We now use random forests to predict air quality. Remember that the tree ensemble in random forests is built by training individual regression trees on different subsets of the training data and using a subset of the available features. For regression, the prediction is the average of the individual predictions of each tree. Some of the parameters required in the Random Forest implementation in Scikit-learn include:\n",
        "\n",
        "Some of the additional parameters required in the Random Forest implementation in Scikit-learn include\n",
        "\n",
        "> **n_estimators** the total number of trees to train<p>\n",
        "**max_features** number of features to use as candidates for splitting at each tree node. <p>\n",
        "    **boostrap**: Whether bootstrap samples are used when building trees. If False, the whole dataset is used to build each tree.<p>\n",
        "   **max_samples**: If bootstrap is True, the number of samples to draw from X to train each base estimator."
      ]
    },
    {
      "cell_type": "markdown",
      "metadata": {
        "id": "uZE5SCgSjPjm"
      },
      "source": [
        "### Question 2.c: train a random forest (4 marks)\n",
        "\n",
        "In this question, you will train a random forest for predicting over the validation data. Use cross-validation over the validation data to select the best set of paramaters for the random forest regressor. Parameters to include in your exploration are **n_estimators**, **max_features** and **max_samples**. Use `np.linspace` or `np.logspace` to define ranges of values to explore for each parameter and create a grid to be assessed over the validation data. Make sure you use the same validation data that was given to you.\n",
        "\n",
        "* Use `PredefinedSplit` to tell the cross validator which instances to use for training and which ones for validation (**1 mark**).\n",
        "\n",
        "* Create a grid of values to explore that include a range of at least five values for each parameter **n_estimators**, **max_features** and **max_samples** (**1 mark**). \n",
        "\n",
        "* Train a random forest for regression model that uses the grid of parameters you created before. Use `GridSearchCV` to find the best set of parameters by performing cross-validation over the predefined split. (**1 mark**).\n",
        "\n",
        "* Print the best values in your grid for **n_estimators**, **max_features** and **max_samples** (**1 mark**).\n",
        "\n",
        "#### Question 2.c Answer"
      ]
    },
    {
      "cell_type": "code",
      "metadata": {
        "id": "_PmQNztbjPjm",
        "colab": {
          "base_uri": "https://localhost:8080/"
        },
        "outputId": "116df19a-1d23-47bb-c3df-06f5dac95586"
      },
      "source": [
        "from sklearn.model_selection import PredefinedSplit\n",
        "from sklearn.ensemble import RandomForestRegressor\n",
        "from sklearn.model_selection import GridSearchCV\n",
        "# AIR QUALITY\n",
        "# I need this to Train\n",
        "\n",
        "X_tr_rf= pd.DataFrame(train_pipe.iloc[:, 1:train_pipe.last_valid_index()])\n",
        "\n",
        "st_dev_1 = train_pipe.std()\n",
        "No_StanTrain = train_pipe*st_dev_1\n",
        "\n",
        "Y_tr_rf = pd.DataFrame(No_StanTrain.iloc[:, 0])\n",
        "\n",
        "\n",
        "Val_pipe = pd.DataFrame(pl_pipe.fit_transform(data_val_unproc))\n",
        "\n",
        "X_Val_rf = pd.DataFrame(Val_pipe.iloc[:, 1:Val_pipe.last_valid_index()])\n",
        "st_dev_2 = Val_pipe.std()\n",
        "\n",
        "#For yVal we need to reverse the standardization, otherwise it will affect the computation of w, using minibatch gradient descent.\n",
        "No_StanVal = Val_pipe*st_dev_2\n",
        "\n",
        "#Validation Dataset separated into the vector of targets y, called yTrain. take the first column CO(GT)\n",
        "y_Val_rf = pd.DataFrame(No_StanVal.iloc[:, 0])\n",
        "\n",
        "\n",
        "# Create a grid of values to explore that include a range of at least five values for each parameter n_estimators, max_features and max_samples (1 mark).\n",
        "\n",
        "# n_estimators the total number of trees to train maybe try small\n",
        "n_estimators = np.linspace(50.0,\n",
        "               150.0,\n",
        "               num = 5,\n",
        "               endpoint = False,\n",
        "               retstep = False,\n",
        "               dtype = int)\n",
        "print(\"n_estimators\\n\", n_estimators,'\\n')\n",
        "\n",
        "# max_features number of features to use as candidates for splitting at each tree node.\n",
        "\n",
        "# max_features = ['auto', 'sqrt']\n",
        "max_features = np.logspace(1.0,\n",
        "               4.0,\n",
        "               num = 5,\n",
        "               endpoint = False,\n",
        "               base = 2.0,\n",
        "               dtype = int)\n",
        "print(\"max_features\\n\", max_features,'\\n')\n",
        "\n",
        " # max_samples: If bootstrap is True, the number of samples to draw from X to train each base estimator.\n",
        "\n",
        "max_samples = np.logspace(2.0,\n",
        "               5.0,\n",
        "               num = 5,\n",
        "               endpoint = False,\n",
        "               base = 4.0,\n",
        "               dtype = int)\n",
        "print(\"max_samples\\n\", max_samples,'\\n')\n",
        "\n",
        " # boostrap: Whether bootstrap samples are used when building trees. If False, the whole dataset is used to build each tree.\n",
        "\n",
        "rf = RandomForestRegressor()\n",
        "\n",
        "param_grid = { \n",
        "    'n_estimators': n_estimators,\n",
        "    'max_features': max_features,\n",
        "    'max_samples' : max_samples,\n",
        "    'bootstrap' : [True,False]\n",
        "}\n",
        "\n",
        "# Use PredefinedSplit to tell the cross validator which instances to use for training and which ones for validation (1 mark).\n",
        "\n",
        "# Create a list where train data indices are -1 and validation data indices are 0\n",
        "index = [0 if x in X_Val_rf.index else -1 for x in data_val_unproc.index] # HOW TO DO THIS\n",
        "\n",
        "split = PredefinedSplit(index)#SPLIT WHAT\n",
        "\n",
        "Pre_Split = PredefinedSplit(test_fold = index)\n",
        "# print(Pre_Split.get_n_splits())\n",
        "\n",
        "validation_split = list(PredefinedSplit(index).split())\n",
        "\n",
        "# Set up GridSearch with RandomForest as an estimator, load the paramater grid ......\n",
        "CV_rfc = GridSearchCV(estimator=rf, param_grid=param_grid, cv = validation_split, refit = True)\n",
        "\n",
        "# train the model on train set using GridSearchCV \n",
        "CV_rfc.fit(X_tr_rf, Y_tr_rf.values.ravel())\n",
        "\n",
        "best_parameters = CV_rfc.best_params_\n",
        "print(\"Best values in the grid:\",best_parameters)"
      ],
      "execution_count": null,
      "outputs": [
        {
          "output_type": "stream",
          "name": "stdout",
          "text": [
            "n_estimators\n",
            " [ 50  70  90 110 130] \n",
            "\n",
            "max_features\n",
            " [ 2  3  4  6 10] \n",
            "\n",
            "max_samples\n",
            " [ 16  36  84 194 445] \n",
            "\n",
            "Best values in the grid: {'bootstrap': False, 'max_features': 3, 'max_samples': 16, 'n_estimators': 50}\n"
          ]
        }
      ]
    },
    {
      "cell_type": "markdown",
      "metadata": {
        "id": "ebNvRHrUjPjm"
      },
      "source": [
        "### Question 2.d: train a new model over the whole training data and report the prediction over the test set (4 marks)\n",
        "\n",
        "\n",
        "Now that we have identified the best paramaters of the regression model, we use these parameters to train a new model over the whole training data (`data_training` plus `data_val`). We apply this model to the test set and report the performance.\n",
        "\n",
        "* Create a new preprocessing pipeline for taking care of the missing values and standardisation over the whole training data (**1 mark**).\n",
        "\n",
        "* Apply the created preprocessing pipeline to the test data (**1 mark**).\n",
        "\n",
        "* Fit a random forest regression model to the training data using the best parameters found in Question 2.c (**1 mark**).\n",
        "\n",
        "* Compute the RMSE over the test data and report the result (**1 mark**).\n",
        "\n",
        "#### Question 2.d Answer"
      ]
    },
    {
      "cell_type": "code",
      "metadata": {
        "id": "7jgnEMoIjPjm",
        "colab": {
          "base_uri": "https://localhost:8080/"
        },
        "outputId": "b3af6f50-4306-4ada-80e7-822ab4f019ae"
      },
      "source": [
        "from sklearn import metrics\n",
        "\n",
        "new_dataTR = [data_val_unproc, data_training_unproc]\n",
        "  \n",
        "new_unproc_TR = pd.concat(new_dataTR)\n",
        "\n",
        "#Similar to 2c TEST for VAL and Train \n",
        "#Create a new preprocessing pipeline for taking care of the missing values and standardisation over the whole training data \n",
        "fn_pipe = Pipeline([('imputer',SimpleImputer(missing_values = -200, strategy = 'mean')), ('scaler', StandardScaler())])\n",
        "\n",
        "new_TR_pipe = pd.DataFrame(fn_pipe.fit_transform(new_unproc_TR))# fit and then transform \n",
        "\n",
        "new_TR_pipe.columns = new_unproc_TR.columns\n",
        "\n",
        "X_new_rf = pd.DataFrame(new_TR_pipe.iloc[:, 1:new_TR_pipe.last_valid_index()])\n",
        "\n",
        "st_dev_new = new_TR_pipe.std()\n",
        "New_StanTrain = new_TR_pipe*st_dev_new\n",
        "\n",
        "Y_new_rf = pd.DataFrame(New_StanTrain.iloc[:, 0])\n",
        "\n",
        "\n",
        "# Apply the created preprocessing pipeline to the test data \n",
        "test_pipe = pd.DataFrame(fn_pipe.fit_transform(data_test_unproc))\n",
        "\n",
        "test_pipe.columns = data_test_unproc.columns\n",
        "\n",
        "\n",
        "x_TestRF = pd.DataFrame(test_pipe.iloc[:, 1:test_pipe.last_valid_index()])\n",
        "\n",
        "st_devTST = test_pipe.std()\n",
        "New_StanTST = test_pipe*st_devTST\n",
        "\n",
        "y_TestRF = pd.DataFrame(New_StanTST.iloc[:, 0])\n",
        "\n",
        "#fit a random forest regression model to the training data using the best parameters found in Question 2.c \n",
        "rf1 = RandomForestRegressor()\n",
        "\n",
        "list_param ={\n",
        "    'n_estimators': np.array([best_parameters.get('n_estimators')]),\n",
        "    'max_features': np.array([best_parameters.get('max_features')]),\n",
        "    'max_samples' : np.array([best_parameters.get('max_samples')]),\n",
        "    'bootstrap' :  np.array([best_parameters.get('bootstrap')])\n",
        "}\n",
        "\n",
        "\n",
        "# Set up GridSearch with RandomForest as an estimator, load the paramater grid ......\n",
        "CV_rfc1 = GridSearchCV(estimator=rf1, param_grid = list_param,  refit = True)\n",
        "\n",
        "# train the model on train set using GridSearchCV \n",
        "CV_rfc1.fit(X_new_rf, Y_new_rf.values.ravel())\n",
        "\n",
        "# RMSE over the test data\n",
        "y_pred = CV_rfc1.predict(x_TestRF)\n",
        "\n",
        "print('Root Mean Squared Error:', np.sqrt(metrics.mean_squared_error(y_TestRF, y_pred)))"
      ],
      "execution_count": null,
      "outputs": [
        {
          "output_type": "stream",
          "name": "stdout",
          "text": [
            "Root Mean Squared Error: 0.2972839266882645\n"
          ]
        }
      ]
    }
  ]
}